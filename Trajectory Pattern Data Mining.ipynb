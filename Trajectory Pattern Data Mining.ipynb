{
 "cells": [
  {
   "cell_type": "markdown",
   "metadata": {},
   "source": [
    "# Trajectory Pattern Data Mining\n",
    "\n",
    "**Problem statement 1:** \n",
    "- Given a set of trajectories, find a subset of the trajectories where the users are travelling together.\n",
    "- Given a set of trajectories, derive a similarity score of the trajectories.\n",
    "\n",
    "**Relevant work:**\n",
    "- Chapter 5 of [Computing with Spatial Trajectories](https://github.com/tyqiangz/Trajectory-Data-Mining/blob/master/Useful%20Research%20Materials/Computing%20with%20Spatial%20Trajectories.pdf)\n",
    "    - Gives a very broad overview of pattern discovery methods\n",
    "- Paper titled \"[Efficient mining of group patterns from user movement data](https://github.com/tyqiangz/Trajectory-Data-Mining/blob/master/Useful%20Research%20Materials/Efficient%20mining%20of%20group%20patterns%20from%20user%20movement%20data.pdf)\" \n",
    "    - Several algorithms were proposed to mine group movement pattern, where a *group pattern* is defined as a group of users that are within a distance threshold from one another for at least a minimum duration."
   ]
  },
  {
   "cell_type": "code",
   "execution_count": null,
   "metadata": {},
   "outputs": [],
   "source": []
  },
  {
   "cell_type": "markdown",
   "metadata": {},
   "source": [
    "### Evaluating the paper titled \"[Efficient mining of group patterns from user movement data](https://github.com/tyqiangz/Trajectory-Data-Mining/blob/master/Useful%20Research%20Materials/Efficient%20mining%20of%20group%20patterns%20from%20user%20movement%20data.pdf)\" \n",
    "\n",
    "Notation:\n",
    "- $D=(D_1,D_2,D_M)$: User movement database\n",
    "- $D_i$: a time series of tuple $(t,(x,y,z))$ denoting geolocation of user $i$ at time $t$\n",
    "- $u_{i}[t] . p$: location of a user $u_{i}$ at time $t$\n",
    "- $N$: No. of time points in $D$.\n",
    "- Valid segment: Check definition 1\n",
    "- Group pattern: Check definition 2\n",
    "- $k$-Group pattern: A group pattern with $k$ users.\n",
    "- sub-group pattern: Check definition 3.\n",
    "- weight count, weight: Check definition 4.\n",
    "\n",
    "\n",
    "1. $\\textbf{Definition 1}:$ Given a set of users $G$, a maximum distance threshold $max\\_dis$, and a minimum time duration threshold $min\\_dur$, a set of consecutive time points $\\left[t_a, t_{b}\\right]$ is called a **valid segment of $G$**, if\n",
    "    - $\\forall u_{i}, u_{j} \\in G, t_{a} \\le t \\le t_{b}, d(u_{i}[t] \\cdot p, u_{j}[t] \\cdot p) \\le max\\_dis$\n",
    "    - If $t_{a}>0, \\exists u_{i}, u_{j} \\in G, d(u_{i}[t_{a}-1] \\cdot p, u_{j}[t_{a}-1] \\cdot p)>\\max\\_dis$\n",
    "    - If $t_{b}<N-1, \\exists u_{i}, u_{j} \\in G, d(u_{i}\\left[t_{b}+1\\right] \\cdot p, u_{j}\\left[t_{b}+1\\right] \\cdot p)>\\max\\_dis$\n",
    "    - $\\left(t_{b}-t_{a}+1\\right) \\ge$ `min_dur`.\n",
    "    \n",
    "    In other words, within a valid segment of a set of users G, all members must be close to one another for at least a minimum time duration (`min_dur`). The function, $d(\\ )$, returns the distance between two points.\n",
    "    \n",
    "2. $\\textbf{Definition 2}: $ Given a set of users $G,$ thresholds $max\\_dis$ and $min\\_dur$, we say that $G, max\\_dis$ and $min\\_dur$ form a **group pattern**, denoted by $P=\\langle G, max\\_dis,min\\_dur\\rangle,$ if $G$ has a valid segment.\n",
    "3. $\\textbf{Definition 3}:$ Given two group patterns, $P=\\left\\langle G, \\max\\_dis, \\min\\_dur\\right\\rangle$ and $P'=\\left\\langle G', \\max\\_dis, \\min\\_dur\\right\\rangle, P'$ is called a **sub-group pattern** of $P$ if $G^{\\prime} \\subseteq G$.\n",
    "\n",
    "4. $\\textbf{Definition 4}: $ Let $P$ be a group pattern with valid segments $s_{1}, \\ldots, s_{n},$ the weight-count and weight of $P$ are defined as\n",
    "\\begin{align*}\n",
    "    \\operatorname{weight-count}(P)=\\sum_{i=1}^{n}\\left|s_{i}\\right| \\quad \\text{and} \\quad\n",
    "    \\operatorname{weight}(P)=\\frac{\\text { weight-count }(P)}{N}=\\frac{\\sum_{i=1}^{n}\\left|s_{i}\\right|}{N}.\n",
    "\\end{align*}\n",
    "5. $\\textbf{Definition 5}: $ Given the thresholds max_dis, min_dur, and min_wei, the problem of finding all the\n",
    "valid group patterns (or simply valid groups) is known as **valid group (pattern) mining**."
   ]
  },
  {
   "cell_type": "code",
   "execution_count": null,
   "metadata": {},
   "outputs": [],
   "source": [
    "def agp(df_list, max_dis, min_dur, min_wei):\n",
    "    '''\n",
    "    :param df_list: a list of trajectories\n",
    "    :param max_dis: maximum distance threshold between two users for a subset of `df_list` \n",
    "        to be considered a group pattern\n",
    "    :param min_dur: the minimum duration threshold for the time period two users\n",
    "        spent together to be considered a group pattern\n",
    "    :param min_wei:\n",
    "    :return group_pattern: the group pattern derived from `df_list`\n",
    "    '''\n",
    "    \n",
    "def generate_candidate_groups():\n",
    "    return pass\n",
    "\n",
    "def is_close():\n",
    "    return pass"
   ]
  },
  {
   "cell_type": "code",
   "execution_count": null,
   "metadata": {},
   "outputs": [],
   "source": []
  },
  {
   "cell_type": "code",
   "execution_count": null,
   "metadata": {},
   "outputs": [],
   "source": []
  },
  {
   "cell_type": "code",
   "execution_count": null,
   "metadata": {},
   "outputs": [],
   "source": []
  },
  {
   "cell_type": "code",
   "execution_count": null,
   "metadata": {},
   "outputs": [],
   "source": []
  },
  {
   "cell_type": "code",
   "execution_count": null,
   "metadata": {},
   "outputs": [],
   "source": []
  },
  {
   "cell_type": "code",
   "execution_count": null,
   "metadata": {},
   "outputs": [],
   "source": []
  },
  {
   "cell_type": "code",
   "execution_count": null,
   "metadata": {},
   "outputs": [],
   "source": []
  }
 ],
 "metadata": {
  "kernelspec": {
   "display_name": "Python 3",
   "language": "python",
   "name": "python3"
  },
  "language_info": {
   "codemirror_mode": {
    "name": "ipython",
    "version": 3
   },
   "file_extension": ".py",
   "mimetype": "text/x-python",
   "name": "python",
   "nbconvert_exporter": "python",
   "pygments_lexer": "ipython3",
   "version": "3.7.7"
  }
 },
 "nbformat": 4,
 "nbformat_minor": 2
}
